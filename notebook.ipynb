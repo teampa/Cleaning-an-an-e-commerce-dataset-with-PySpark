{
 "cells": [
  {
   "cell_type": "markdown",
   "id": "50e4e10a-82d1-4840-a207-f4e64a7bd20e",
   "metadata": {},
   "source": [
    "![ecommerce_analytics-1224x532](ecommerce_analytics-1224x532.jpg)\n"
   ]
  },
  {
   "cell_type": "markdown",
   "id": "954c11f8-0b2d-4883-95d7-4b5ff4aee339",
   "metadata": {
    "jupyter": {
     "outputs_hidden": false,
     "source_hidden": false
    }
   },
   "source": [
    "As a Data Engineer at an electronics e-commerce company, Voltmart, I have been requested by a peer Machine Learning team to clean the data containing the information about orders made last year. They are planning to further use this cleaned data to build a demand forecasting model. To achieve this, they have shared their requirements regarding the desired output table format.\n",
    "\n",
    "An analyst shared a parquet file called `\"orders_data.parquet\"` for you to clean and preprocess. \n",
    "\n",
    "We can see the dataset schema below along with the **cleaning requirements**:"
   ]
  },
  {
   "cell_type": "markdown",
   "id": "086e2bd3-ff58-423b-98e0-a7e4c979d7f3",
   "metadata": {},
   "source": [
    "## `orders_data.parquet`\n",
    "\n",
    "| column | data type | description | cleaning requirements | \n",
    "|--------|-----------|-------------|-----------------------|\n",
    "| `order_date` | `timestamp` | Date and time when the order was made | _Modify: Remove orders placed between 12am and 5am (inclusive); convert from timestamp to date_ |\n",
    "| `time_of_day` | `string` | Period of the day when the order was made | _New column containing (lower bound inclusive, upper bound exclusive): \"morning\" for orders placed 5-12am, \"afternoon\" for orders placed 12-6pm, and \"evening\" for 6-12pm_ |\n",
    "| `order_id` | `long` | Order ID | _N/A_ |\n",
    "| `product` | `string` | Name of a product ordered | _Remove rows containing \"TV\" as the company has stopped selling this product; ensure all values are lowercase_ |\n",
    "| `product_ean` | `double` | Product ID | _N/A_ |\n",
    "| `category` | `string` | Broader category of a product | _Ensure all values are lowercase_ |\n",
    "| `purchase_address` | `string` | Address line where the order was made (\"House Street, City, State Zipcode\") | _N/A_ |\n",
    "| `purchase_state` | `string` | US State of the purchase address | _New column containing: the State that the purchase was ordered from_ |\n",
    "| `quantity_ordered` | `long` | Number of product units ordered | _N/A_ |\n",
    "| `price_each` | `double` | Price of a product unit | _N/A_ |\n",
    "| `cost_price` | `double` | Cost of production per product unit | _N/A_ |\n",
    "| `turnover` | `double` | Total amount paid for a product (quantity x price) | _N/A_ |\n",
    "| `margin` | `double` | Profit made by selling a product (turnover - cost) | _N/A_ |\n",
    "\n",
    "<br>"
   ]
  },
  {
   "cell_type": "code",
   "execution_count": 1,
   "id": "62b55d87-f8fd-4e8a-9ef6-6fe91f4de5f3",
   "metadata": {
    "executionCancelledAt": null,
    "executionTime": 7036,
    "lastExecutedAt": 1732078056762,
    "lastExecutedByKernel": "9db9eb67-942b-41dd-9a80-6ca0b03e5bcf",
    "lastScheduledRunId": null,
    "lastSuccessfullyExecutedCode": "from pyspark.sql import (\n    SparkSession,\n    types,\n    functions as F,\n)\n# Initiate a Spark session\nspark = (\n    SparkSession\n    .builder\n    .appName('cleaning_orders_dataset_with_pyspark')\n    .getOrCreate()\n)",
    "outputsMetadata": {
     "0": {
      "height": 59,
      "type": "stream"
     },
     "1": {
      "height": 59,
      "type": "stream"
     }
    }
   },
   "outputs": [
    {
     "name": "stderr",
     "output_type": "stream",
     "text": [
      "Setting default log level to \"WARN\".\n",
      "To adjust logging level use sc.setLogLevel(newLevel). For SparkR, use setLogLevel(newLevel).\n"
     ]
    },
    {
     "name": "stdout",
     "output_type": "stream",
     "text": [
      "24/11/20 04:47:35 WARN NativeCodeLoader: Unable to load native-hadoop library for your platform... using builtin-java classes where applicable\n"
     ]
    }
   ],
   "source": [
    "from pyspark.sql import (\n",
    "    SparkSession,\n",
    "    types,\n",
    "    functions as F,\n",
    ")\n",
    "# Initiate a Spark session\n",
    "spark = (\n",
    "    SparkSession\n",
    "    .builder\n",
    "    .appName('cleaning_orders_dataset_with_pyspark')\n",
    "    .getOrCreate()\n",
    ")"
   ]
  },
  {
   "cell_type": "code",
   "execution_count": 2,
   "id": "fa903d28-82b2-4c39-90b1-3d9a9421fb6d",
   "metadata": {
    "executionCancelledAt": null,
    "executionTime": 6995,
    "lastExecutedAt": 1732078066566,
    "lastExecutedByKernel": "9db9eb67-942b-41dd-9a80-6ca0b03e5bcf",
    "lastScheduledRunId": null,
    "lastSuccessfullyExecutedCode": "# IMPORT DATA\n\n# Read data from the parquet file\norders_data = spark.read.parquet('orders_data.parquet')\norders_data.toPandas().head()",
    "outputsMetadata": {
     "0": {
      "height": 38,
      "type": "stream"
     },
     "1": {
      "height": 222,
      "type": "dataFrame"
     }
    }
   },
   "outputs": [
    {
     "name": "stderr",
     "output_type": "stream",
     "text": [
      "                                                                                \r"
     ]
    },
    {
     "data": {
      "application/com.datacamp.data-table.v2+json": {
       "table": {
        "data": {
         "category": [
          "Vêtements",
          "Alimentation",
          "Vêtements",
          "Sports",
          "Électronique"
         ],
         "cost_price": [
          231,
          7.475,
          5.995,
          97.4935,
          5.995
         ],
         "index": [
          0,
          1,
          2,
          3,
          4
         ],
         "margin": [
          469,
          7.475,
          11.99,
          52.4965,
          5.995
         ],
         "order_date": [
          "2023-01-22T21:25:00.000",
          "2023-01-28T14:15:00.000",
          "2023-01-17T13:33:00.000",
          "2023-01-05T20:33:00.000",
          "2023-01-25T11:59:00.000"
         ],
         "order_id": [
          141234,
          141235,
          141236,
          141237,
          141238
         ],
         "price_each": [
          700,
          14.95,
          11.99,
          149.99,
          11.99
         ],
         "product": [
          "iPhone",
          "Lightning Charging Cable",
          "Wired Headphones",
          "27in FHD Monitor",
          "Wired Headphones"
         ],
         "product_id": [
          5638008983335,
          5563319511488,
          2113973395220,
          3069156759167,
          9692680938163
         ],
         "purchase_address": [
          "944 Walnut St, Boston, MA 02215",
          "185 Maple St, Portland, OR 97035",
          "538 Adams St, San Francisco, CA 94016",
          "738 10th St, Los Angeles, CA 90001",
          "387 10th St, Austin, TX 73301"
         ],
         "quantity_ordered": [
          1,
          1,
          2,
          1,
          1
         ],
         "turnover": [
          700,
          14.95,
          23.98,
          149.99,
          11.99
         ]
        },
        "schema": {
         "fields": [
          {
           "name": "index",
           "type": "integer"
          },
          {
           "name": "order_date",
           "type": "datetime"
          },
          {
           "name": "order_id",
           "type": "integer"
          },
          {
           "name": "product",
           "type": "string"
          },
          {
           "name": "product_id",
           "type": "number"
          },
          {
           "name": "category",
           "type": "string"
          },
          {
           "name": "purchase_address",
           "type": "string"
          },
          {
           "name": "quantity_ordered",
           "type": "integer"
          },
          {
           "name": "price_each",
           "type": "number"
          },
          {
           "name": "cost_price",
           "type": "number"
          },
          {
           "name": "turnover",
           "type": "number"
          },
          {
           "name": "margin",
           "type": "number"
          }
         ],
         "pandas_version": "1.4.0",
         "primaryKey": [
          "index"
         ]
        }
       },
       "total_rows": 5,
       "truncation_type": null
      },
      "text/html": [
       "<div>\n",
       "<style scoped>\n",
       "    .dataframe tbody tr th:only-of-type {\n",
       "        vertical-align: middle;\n",
       "    }\n",
       "\n",
       "    .dataframe tbody tr th {\n",
       "        vertical-align: top;\n",
       "    }\n",
       "\n",
       "    .dataframe thead th {\n",
       "        text-align: right;\n",
       "    }\n",
       "</style>\n",
       "<table border=\"1\" class=\"dataframe\">\n",
       "  <thead>\n",
       "    <tr style=\"text-align: right;\">\n",
       "      <th></th>\n",
       "      <th>order_date</th>\n",
       "      <th>order_id</th>\n",
       "      <th>product</th>\n",
       "      <th>product_id</th>\n",
       "      <th>category</th>\n",
       "      <th>purchase_address</th>\n",
       "      <th>quantity_ordered</th>\n",
       "      <th>price_each</th>\n",
       "      <th>cost_price</th>\n",
       "      <th>turnover</th>\n",
       "      <th>margin</th>\n",
       "    </tr>\n",
       "  </thead>\n",
       "  <tbody>\n",
       "    <tr>\n",
       "      <th>0</th>\n",
       "      <td>2023-01-22 21:25:00</td>\n",
       "      <td>141234</td>\n",
       "      <td>iPhone</td>\n",
       "      <td>5.638009e+12</td>\n",
       "      <td>Vêtements</td>\n",
       "      <td>944 Walnut St, Boston, MA 02215</td>\n",
       "      <td>1</td>\n",
       "      <td>700.00</td>\n",
       "      <td>231.0000</td>\n",
       "      <td>700.00</td>\n",
       "      <td>469.0000</td>\n",
       "    </tr>\n",
       "    <tr>\n",
       "      <th>1</th>\n",
       "      <td>2023-01-28 14:15:00</td>\n",
       "      <td>141235</td>\n",
       "      <td>Lightning Charging Cable</td>\n",
       "      <td>5.563320e+12</td>\n",
       "      <td>Alimentation</td>\n",
       "      <td>185 Maple St, Portland, OR 97035</td>\n",
       "      <td>1</td>\n",
       "      <td>14.95</td>\n",
       "      <td>7.4750</td>\n",
       "      <td>14.95</td>\n",
       "      <td>7.4750</td>\n",
       "    </tr>\n",
       "    <tr>\n",
       "      <th>2</th>\n",
       "      <td>2023-01-17 13:33:00</td>\n",
       "      <td>141236</td>\n",
       "      <td>Wired Headphones</td>\n",
       "      <td>2.113973e+12</td>\n",
       "      <td>Vêtements</td>\n",
       "      <td>538 Adams St, San Francisco, CA 94016</td>\n",
       "      <td>2</td>\n",
       "      <td>11.99</td>\n",
       "      <td>5.9950</td>\n",
       "      <td>23.98</td>\n",
       "      <td>11.9900</td>\n",
       "    </tr>\n",
       "    <tr>\n",
       "      <th>3</th>\n",
       "      <td>2023-01-05 20:33:00</td>\n",
       "      <td>141237</td>\n",
       "      <td>27in FHD Monitor</td>\n",
       "      <td>3.069157e+12</td>\n",
       "      <td>Sports</td>\n",
       "      <td>738 10th St, Los Angeles, CA 90001</td>\n",
       "      <td>1</td>\n",
       "      <td>149.99</td>\n",
       "      <td>97.4935</td>\n",
       "      <td>149.99</td>\n",
       "      <td>52.4965</td>\n",
       "    </tr>\n",
       "    <tr>\n",
       "      <th>4</th>\n",
       "      <td>2023-01-25 11:59:00</td>\n",
       "      <td>141238</td>\n",
       "      <td>Wired Headphones</td>\n",
       "      <td>9.692681e+12</td>\n",
       "      <td>Électronique</td>\n",
       "      <td>387 10th St, Austin, TX 73301</td>\n",
       "      <td>1</td>\n",
       "      <td>11.99</td>\n",
       "      <td>5.9950</td>\n",
       "      <td>11.99</td>\n",
       "      <td>5.9950</td>\n",
       "    </tr>\n",
       "  </tbody>\n",
       "</table>\n",
       "</div>"
      ],
      "text/plain": [
       "           order_date  order_id  ... turnover    margin\n",
       "0 2023-01-22 21:25:00    141234  ...   700.00  469.0000\n",
       "1 2023-01-28 14:15:00    141235  ...    14.95    7.4750\n",
       "2 2023-01-17 13:33:00    141236  ...    23.98   11.9900\n",
       "3 2023-01-05 20:33:00    141237  ...   149.99   52.4965\n",
       "4 2023-01-25 11:59:00    141238  ...    11.99    5.9950\n",
       "\n",
       "[5 rows x 11 columns]"
      ]
     },
     "execution_count": 2,
     "metadata": {},
     "output_type": "execute_result"
    }
   ],
   "source": [
    "# IMPORT DATA\n",
    "\n",
    "# Read data from the parquet file\n",
    "orders_data = spark.read.parquet('orders_data.parquet')\n",
    "orders_data.toPandas().head()"
   ]
  },
  {
   "cell_type": "markdown",
   "id": "e8045beb-06d6-419f-86b3-46b753851b43",
   "metadata": {},
   "source": [
    "### 1. Add new column containing (lower bound inclusive, upper bound exclusive): \"morning\" for orders placed 5-12am, \"afternoon\" for orders placed 12-6pm, and \"evening\" for 6-12pm "
   ]
  },
  {
   "cell_type": "code",
   "execution_count": 8,
   "id": "e318a0c9-ecbb-4b0b-8292-99ae957f524a",
   "metadata": {
    "executionCancelledAt": null,
    "executionTime": 237,
    "lastExecutedAt": 1732078173992,
    "lastExecutedByKernel": "9db9eb67-942b-41dd-9a80-6ca0b03e5bcf",
    "lastScheduledRunId": null,
    "lastSuccessfullyExecutedCode": "# DATA CLEANING AND PREPROCESSING\n\nfrom pyspark.sql import functions as F\n\norders_data = (\n    orders_data\n    # Create a new column time_of_day\n    .withColumn(\n        'time_of_day',\n        # When/otherwise (similar to case/when/else) statements extracting hour from timestamp\n        F.when((F.hour('order_date') >= 0) & (F.hour('order_date') <= 5), 'night')\n         .when((F.hour('order_date') >= 6) & (F.hour('order_date') <= 11), 'morning')\n         .when((F.hour('order_date') >= 12) & (F.hour('order_date') <= 17), 'afternoon')\n         .when((F.hour('order_date') >= 18) & (F.hour('order_date') <= 23), 'evening')\n        # Keep the otherwise statement as None to validate whether the conditions are exhaustive\n         .otherwise(None)\n    )\n)\n\norders_data.show(5, truncate=False)",
    "outputsMetadata": {
     "0": {
      "height": 437,
      "type": "stream"
     },
     "1": {
      "height": 59,
      "type": "stream"
     },
     "2": {
      "height": 38,
      "type": "stream"
     }
    }
   },
   "outputs": [
    {
     "name": "stdout",
     "output_type": "stream",
     "text": [
      "+-------------------+--------+------------------------+-----------------+------------+-------------------------------------+----------------+----------+----------+--------+-------+-----------+\n",
      "|order_date         |order_id|product                 |product_id       |category    |purchase_address                     |quantity_ordered|price_each|cost_price|turnover|margin |time_of_day|\n",
      "+-------------------+--------+------------------------+-----------------+------------+-------------------------------------+----------------+----------+----------+--------+-------+-----------+\n",
      "|2023-01-22 21:25:00|141234  |iPhone                  |5.638008983335E12|Vêtements   |944 Walnut St, Boston, MA 02215      |1               |700.0     |231.0     |700.0   |469.0  |evening    |\n",
      "|2023-01-28 14:15:00|141235  |Lightning Charging Cable|5.563319511488E12|Alimentation|185 Maple St, Portland, OR 97035     |1               |14.95     |7.475     |14.95   |7.475  |afternoon  |\n",
      "|2023-01-17 13:33:00|141236  |Wired Headphones        |2.11397339522E12 |Vêtements   |538 Adams St, San Francisco, CA 94016|2               |11.99     |5.995     |23.98   |11.99  |afternoon  |\n",
      "|2023-01-05 20:33:00|141237  |27in FHD Monitor        |3.069156759167E12|Sports      |738 10th St, Los Angeles, CA 90001   |1               |149.99    |97.4935   |149.99  |52.4965|evening    |\n",
      "|2023-01-25 11:59:00|141238  |Wired Headphones        |9.692680938163E12|Électronique|387 10th St, Austin, TX 73301        |1               |11.99     |5.995     |11.99   |5.995  |morning    |\n",
      "+-------------------+--------+------------------------+-----------------+------------+-------------------------------------+----------------+----------+----------+--------+-------+-----------+\n",
      "only showing top 5 rows\n",
      "\n"
     ]
    }
   ],
   "source": [
    "# DATA CLEANING AND PREPROCESSING\n",
    "\n",
    "from pyspark.sql import functions as F\n",
    "\n",
    "orders_data = (\n",
    "    orders_data\n",
    "    # Create a new column time_of_day\n",
    "    .withColumn(\n",
    "        'time_of_day',\n",
    "        # When/otherwise (similar to case/when/else) statements extracting hour from timestamp\n",
    "        F.when((F.hour('order_date') >= 0) & (F.hour('order_date') <= 5), 'night')\n",
    "         .when((F.hour('order_date') >= 6) & (F.hour('order_date') <= 11), 'morning')\n",
    "         .when((F.hour('order_date') >= 12) & (F.hour('order_date') <= 17), 'afternoon')\n",
    "         .when((F.hour('order_date') >= 18) & (F.hour('order_date') <= 23), 'evening')\n",
    "        # Keep the otherwise statement as None to validate whether the conditions are exhaustive\n",
    "         .otherwise(None)\n",
    "    )\n",
    ")\n",
    "\n",
    "orders_data.show(5, truncate=False)"
   ]
  },
  {
   "cell_type": "markdown",
   "id": "bdfaf74e-b07b-46a7-b05c-5220ed175b24",
   "metadata": {},
   "source": [
    "### 2. Remove orders placed between 12am and 5am (inclusive); convert from timestamp to date"
   ]
  },
  {
   "cell_type": "code",
   "execution_count": 10,
   "id": "3cdfcf82-37e5-4202-a0db-10af6855a858",
   "metadata": {
    "executionCancelledAt": null,
    "executionTime": 233,
    "lastExecutedAt": 1732078432223,
    "lastExecutedByKernel": "9db9eb67-942b-41dd-9a80-6ca0b03e5bcf",
    "lastScheduledRunId": null,
    "lastSuccessfullyExecutedCode": "orders_data = (\n    orders_data\n    # Filter \"night\" out from the column\n    .filter(\n        F.col('time_of_day') != 'night'\n    )\n    # Cast order_date to date as it is originally a timestamp\n    .withColumn(\n        'order_date',\n        F.col('order_date').cast(types.DateType())\n    )\n)\norders_data.show(5, truncate=False)",
    "outputsMetadata": {
     "0": {
      "height": 437,
      "type": "stream"
     }
    }
   },
   "outputs": [
    {
     "name": "stdout",
     "output_type": "stream",
     "text": [
      "+----------+--------+------------------------+-----------------+------------+-------------------------------------+----------------+----------+----------+--------+-------+-----------+\n",
      "|order_date|order_id|product                 |product_id       |category    |purchase_address                     |quantity_ordered|price_each|cost_price|turnover|margin |time_of_day|\n",
      "+----------+--------+------------------------+-----------------+------------+-------------------------------------+----------------+----------+----------+--------+-------+-----------+\n",
      "|2023-01-22|141234  |iPhone                  |5.638008983335E12|Vêtements   |944 Walnut St, Boston, MA 02215      |1               |700.0     |231.0     |700.0   |469.0  |evening    |\n",
      "|2023-01-28|141235  |Lightning Charging Cable|5.563319511488E12|Alimentation|185 Maple St, Portland, OR 97035     |1               |14.95     |7.475     |14.95   |7.475  |afternoon  |\n",
      "|2023-01-17|141236  |Wired Headphones        |2.11397339522E12 |Vêtements   |538 Adams St, San Francisco, CA 94016|2               |11.99     |5.995     |23.98   |11.99  |afternoon  |\n",
      "|2023-01-05|141237  |27in FHD Monitor        |3.069156759167E12|Sports      |738 10th St, Los Angeles, CA 90001   |1               |149.99    |97.4935   |149.99  |52.4965|evening    |\n",
      "|2023-01-25|141238  |Wired Headphones        |9.692680938163E12|Électronique|387 10th St, Austin, TX 73301        |1               |11.99     |5.995     |11.99   |5.995  |morning    |\n",
      "+----------+--------+------------------------+-----------------+------------+-------------------------------------+----------------+----------+----------+--------+-------+-----------+\n",
      "only showing top 5 rows\n",
      "\n"
     ]
    }
   ],
   "source": [
    "orders_data = (\n",
    "    orders_data\n",
    "    # Filter \"night\" out from the column\n",
    "    .filter(\n",
    "        F.col('time_of_day') != 'night'\n",
    "    )\n",
    "    # Cast order_date to date as it is originally a timestamp\n",
    "    .withColumn(\n",
    "        'order_date',\n",
    "        F.col('order_date').cast(types.DateType())\n",
    "    )\n",
    ")\n",
    "orders_data.show(5, truncate=False)"
   ]
  },
  {
   "cell_type": "markdown",
   "id": "a7842516-f10b-4b1a-921d-3cc278098d2d",
   "metadata": {},
   "source": [
    "### 3.Convert product and category column to lowercase and romove rows containing \"TV\" as the company has stopped selling this product."
   ]
  },
  {
   "cell_type": "code",
   "execution_count": 23,
   "id": "99f43321-1dce-4095-a94c-4efea1b37211",
   "metadata": {
    "executionCancelledAt": null,
    "executionTime": 259,
    "lastExecutedAt": 1732075665222,
    "lastExecutedByKernel": "93c2f137-6037-4c50-8d57-fe1800260234",
    "lastScheduledRunId": null,
    "lastSuccessfullyExecutedCode": "orders_data = (\n    orders_data\n    # Make product and category columns lowercase\n    .withColumn(\n        'product',\n        F.lower('product')\n    )\n    .withColumn(\n        'category',\n        F.lower('category')\n    )\n    # Remove rows where product column contains \"tv\" \n    .filter(\n        ~F.col('product').contains('tv')\n    )\n)\norders_data.show(5, truncate=False)\n",
    "outputsMetadata": {
     "0": {
      "height": 437,
      "type": "stream"
     }
    }
   },
   "outputs": [
    {
     "name": "stdout",
     "output_type": "stream",
     "text": [
      "+----------+--------+------------------------+-----------------+------------+-------------------------------------+----------------+----------+----------+--------+-------+-----------+\n",
      "|order_date|order_id|product                 |product_id       |category    |purchase_address                     |quantity_ordered|price_each|cost_price|turnover|margin |time_of_day|\n",
      "+----------+--------+------------------------+-----------------+------------+-------------------------------------+----------------+----------+----------+--------+-------+-----------+\n",
      "|2023-01-22|141234  |iphone                  |5.638008983335E12|vêtements   |944 Walnut St, Boston, MA 02215      |1               |700.0     |231.0     |700.0   |469.0  |evening    |\n",
      "|2023-01-28|141235  |lightning charging cable|5.563319511488E12|alimentation|185 Maple St, Portland, OR 97035     |1               |14.95     |7.475     |14.95   |7.475  |afternoon  |\n",
      "|2023-01-17|141236  |wired headphones        |2.11397339522E12 |vêtements   |538 Adams St, San Francisco, CA 94016|2               |11.99     |5.995     |23.98   |11.99  |afternoon  |\n",
      "|2023-01-05|141237  |27in fhd monitor        |3.069156759167E12|sports      |738 10th St, Los Angeles, CA 90001   |1               |149.99    |97.4935   |149.99  |52.4965|evening    |\n",
      "|2023-01-25|141238  |wired headphones        |9.692680938163E12|électronique|387 10th St, Austin, TX 73301        |1               |11.99     |5.995     |11.99   |5.995  |morning    |\n",
      "+----------+--------+------------------------+-----------------+------------+-------------------------------------+----------------+----------+----------+--------+-------+-----------+\n",
      "only showing top 5 rows\n",
      "\n"
     ]
    }
   ],
   "source": [
    "orders_data = (\n",
    "    orders_data\n",
    "    # Make product and category columns lowercase\n",
    "    .withColumn(\n",
    "        'product',\n",
    "        F.lower('product')\n",
    "    )\n",
    "    .withColumn(\n",
    "        'category',\n",
    "        F.lower('category')\n",
    "    )\n",
    "    # Remove rows where product column contains \"tv\" \n",
    "    .filter(\n",
    "        ~F.col('product').contains('tv')\n",
    "    )\n",
    ")\n",
    "orders_data.show(5, truncate=False)"
   ]
  },
  {
   "cell_type": "markdown",
   "id": "11f0f7c9-751d-46de-b869-be9d224fe5c7",
   "metadata": {},
   "source": [
    "### 4.Create new column containing: the State that the purchase was ordered from"
   ]
  },
  {
   "cell_type": "code",
   "execution_count": 24,
   "id": "72ee3cdd-b4b7-4b74-a9dc-a940a2e60142",
   "metadata": {
    "executionCancelledAt": null,
    "executionTime": 258,
    "lastExecutedAt": 1732075665480,
    "lastExecutedByKernel": "93c2f137-6037-4c50-8d57-fe1800260234",
    "lastScheduledRunId": null,
    "lastSuccessfullyExecutedCode": "\norders_data = (\n    orders_data\n    # First you split the purchase address by space (\" \")\n    .withColumn(\n        'address_split',\n        F.split('purchase_address', ' ')\n    )\n    # If you look at the address lines, you can see that the state abbreviation is always at the 2nd last position\n    .withColumn(\n        'purchase_state',\n        F.col('address_split').getItem(F.size('address_split') - 2)\n    )\n    # Dropping address_split columns as it is a temporary technical column\n    .drop('address_split')\n)\norders_data.show(5, truncate=False)\n",
    "outputsMetadata": {
     "0": {
      "height": 437,
      "type": "stream"
     }
    }
   },
   "outputs": [
    {
     "name": "stdout",
     "output_type": "stream",
     "text": [
      "+----------+--------+------------------------+-----------------+------------+-------------------------------------+----------------+----------+----------+--------+-------+-----------+--------------+\n",
      "|order_date|order_id|product                 |product_id       |category    |purchase_address                     |quantity_ordered|price_each|cost_price|turnover|margin |time_of_day|purchase_state|\n",
      "+----------+--------+------------------------+-----------------+------------+-------------------------------------+----------------+----------+----------+--------+-------+-----------+--------------+\n",
      "|2023-01-22|141234  |iphone                  |5.638008983335E12|vêtements   |944 Walnut St, Boston, MA 02215      |1               |700.0     |231.0     |700.0   |469.0  |evening    |MA            |\n",
      "|2023-01-28|141235  |lightning charging cable|5.563319511488E12|alimentation|185 Maple St, Portland, OR 97035     |1               |14.95     |7.475     |14.95   |7.475  |afternoon  |OR            |\n",
      "|2023-01-17|141236  |wired headphones        |2.11397339522E12 |vêtements   |538 Adams St, San Francisco, CA 94016|2               |11.99     |5.995     |23.98   |11.99  |afternoon  |CA            |\n",
      "|2023-01-05|141237  |27in fhd monitor        |3.069156759167E12|sports      |738 10th St, Los Angeles, CA 90001   |1               |149.99    |97.4935   |149.99  |52.4965|evening    |CA            |\n",
      "|2023-01-25|141238  |wired headphones        |9.692680938163E12|électronique|387 10th St, Austin, TX 73301        |1               |11.99     |5.995     |11.99   |5.995  |morning    |TX            |\n",
      "+----------+--------+------------------------+-----------------+------------+-------------------------------------+----------------+----------+----------+--------+-------+-----------+--------------+\n",
      "only showing top 5 rows\n",
      "\n"
     ]
    }
   ],
   "source": [
    "\n",
    "orders_data = (\n",
    "    orders_data\n",
    "    # Split the purchase address by space (\" \")\n",
    "    .withColumn(\n",
    "        'address_split',\n",
    "        F.split('purchase_address', ' ')\n",
    "    )\n",
    "    # The state abbreviation is always at the 2nd last position\n",
    "    .withColumn(\n",
    "        'purchase_state',\n",
    "        F.col('address_split').getItem(F.size('address_split') - 2)\n",
    "    )\n",
    "    # Dropping address_split columns as it is a temporary technical column\n",
    "    .drop('address_split')\n",
    ")\n",
    "orders_data.show(5, truncate=False)\n"
   ]
  },
  {
   "cell_type": "code",
   "execution_count": 28,
   "id": "b285f4b6-2f54-461b-9872-528d8a85428e",
   "metadata": {
    "executionCancelledAt": null,
    "executionTime": 422,
    "lastExecutedAt": 1732075838936,
    "lastExecutedByKernel": "93c2f137-6037-4c50-8d57-fe1800260234",
    "lastScheduledRunId": null,
    "lastSuccessfullyExecutedCode": "# Use distinct and count to calculate the number of unique values\nn_states = (\n    orders_data\n    .select('purchase_state')\n    .distinct()\n    .count()\n)\nprint(n_states)\n\n",
    "outputsMetadata": {
     "0": {
      "height": 38,
      "type": "stream"
     }
    }
   },
   "outputs": [
    {
     "name": "stdout",
     "output_type": "stream",
     "text": [
      "8\n"
     ]
    }
   ],
   "source": [
    "# Use distinct and count to calculate the number of unique values\n",
    "n_states = (\n",
    "    orders_data\n",
    "    .select('purchase_state')\n",
    "    .distinct()\n",
    "    .count()\n",
    ")\n",
    "print(n_states)"
   ]
  },
  {
   "cell_type": "code",
   "execution_count": 26,
   "id": "6fb61ce0-d22a-450b-ae03-a38d62eed422",
   "metadata": {
    "executionCancelledAt": null,
    "executionTime": 1917,
    "lastExecutedAt": 1732075667881,
    "lastExecutedByKernel": "93c2f137-6037-4c50-8d57-fe1800260234",
    "lastScheduledRunId": null,
    "lastSuccessfullyExecutedCode": "# EXPORT\n\n# Export the resulting table to parquet format with the new name\n(\n    orders_data\n    .write\n    .parquet(\n        'orders_data_clean.parquet',\n        mode='overwrite',\n    )\n)",
    "outputsMetadata": {
     "0": {
      "height": 38,
      "type": "stream"
     }
    }
   },
   "outputs": [
    {
     "name": "stderr",
     "output_type": "stream",
     "text": [
      "                                                                                \r"
     ]
    }
   ],
   "source": [
    "# EXPORT\n",
    "\n",
    "# Export the resulting table to parquet format with the new name\n",
    "(\n",
    "    orders_data\n",
    "    .write\n",
    "    .parquet(\n",
    "        'orders_data_clean.parquet',\n",
    "        mode='overwrite',\n",
    "    )\n",
    ")"
   ]
  }
 ],
 "metadata": {
  "colab": {
   "name": "Welcome to DataCamp Workspaces.ipynb",
   "provenance": []
  },
  "editor": "DataLab",
  "kernelspec": {
   "display_name": "Python 3 (ipykernel)",
   "language": "python",
   "name": "python3"
  },
  "language_info": {
   "codemirror_mode": {
    "name": "ipython",
    "version": 3
   },
   "file_extension": ".py",
   "mimetype": "text/x-python",
   "name": "python",
   "nbconvert_exporter": "python",
   "pygments_lexer": "ipython3",
   "version": "3.11.0"
  }
 },
 "nbformat": 4,
 "nbformat_minor": 5
}
